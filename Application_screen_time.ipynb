{
  "nbformat": 4,
  "nbformat_minor": 0,
  "metadata": {
    "colab": {
      "provenance": [],
      "collapsed_sections": [],
      "mount_file_id": "1y_ZekURSLBNTGwVlRrw_M4_zgw5oo7my",
      "authorship_tag": "ABX9TyNums4B/Hc4RzFsXY1vWbSc",
      "include_colab_link": true
    },
    "kernelspec": {
      "name": "python3",
      "display_name": "Python 3"
    },
    "language_info": {
      "name": "python"
    }
  },
  "cells": [
    {
      "cell_type": "markdown",
      "metadata": {
        "id": "view-in-github",
        "colab_type": "text"
      },
      "source": [
        "<a href=\"https://colab.research.google.com/github/shubhashreeda2/WEB-PROJECT/blob/main/Application_screen_time.ipynb\" target=\"_parent\"><img src=\"https://colab.research.google.com/assets/colab-badge.svg\" alt=\"Open In Colab\"/></a>"
      ]
    },
    {
      "cell_type": "code",
      "execution_count": 149,
      "metadata": {
        "id": "UtphgHQjCZPt"
      },
      "outputs": [],
      "source": [
        "import numpy as np\n",
        "import pandas as pd\n",
        "import matplotlib.pyplot as plt"
      ]
    },
    {
      "cell_type": "code",
      "source": [
        "df=pd.read_csv(\"/content/drive/MyDrive/Internship/Datasets/Screentime - App Details.csv\")\n",
        "df"
      ],
      "metadata": {
        "colab": {
          "base_uri": "https://localhost:8080/",
          "height": 1000
        },
        "id": "Lt4vmhJuCqyQ",
        "outputId": "0003ffdd-463d-40ea-fec6-75600bf8832c"
      },
      "execution_count": 150,
      "outputs": [
        {
          "output_type": "execute_result",
          "data": {
            "text/plain": [
              "          Date  Usage  Notifications  Times opened        App\n",
              "0   08/26/2022     38             70            49  Instagram\n",
              "1   08/27/2022     39             43            48  Instagram\n",
              "2   08/28/2022     64            231            55  Instagram\n",
              "3   08/29/2022     14             35            23  Instagram\n",
              "4   08/30/2022      3             19             5  Instagram\n",
              "5   08/31/2022     19             25            20  Instagram\n",
              "6   09/01/2022     44             23            57  Instagram\n",
              "7   09/02/2022     16             28            22  Instagram\n",
              "8   09/03/2022     27             15            25  Instagram\n",
              "9   09/04/2022     72             29            30  Instagram\n",
              "10  09/05/2022     42             24            51  Instagram\n",
              "11  09/06/2022     19             34            25  Instagram\n",
              "12  09/07/2022     38             23            19  Instagram\n",
              "13  09/08/2022     71             48            43  Instagram\n",
              "14  09/09/2022     43             68            70  Instagram\n",
              "15  09/10/2022     45             71            70  Instagram\n",
              "16  09/11/2022     94            180            95  Instagram\n",
              "17  09/12/2022    114             99           102  Instagram\n",
              "18  09/13/2022     17             45            39  Instagram\n",
              "19  09/14/2022      1             10             2  Instagram\n",
              "20  09/15/2022      2             15             4  Instagram\n",
              "21  09/16/2022      3             13             5  Instagram\n",
              "22  09/17/2022      2              9             3  Instagram\n",
              "23  09/18/2022      3              8             5  Instagram\n",
              "24  09/19/2022      4              8             3  Instagram\n",
              "25  09/20/2022      5             11             5  Instagram\n",
              "26  09/21/2022      2             12             8  Instagram\n",
              "27  08/26/2022     82            209           105   Whatsapp\n",
              "28  08/27/2022     69            111            68   Whatsapp\n",
              "29  08/28/2022    130            183            86   Whatsapp\n",
              "30  08/29/2022     59            157            74   Whatsapp\n",
              "31  08/30/2022    128            246            87   Whatsapp\n",
              "32  08/31/2022    108            169            77   Whatsapp\n",
              "33  09/01/2022     23             99            47   Whatsapp\n",
              "34  09/02/2022     76            144           103   Whatsapp\n",
              "35  09/03/2022      1             80            16   Whatsapp\n",
              "36  09/04/2022      6             38            33   Whatsapp\n",
              "37  09/05/2022    126            218           121   Whatsapp\n",
              "38  09/06/2022     91            205           110   Whatsapp\n",
              "39  09/07/2022    160            212            83   Whatsapp\n",
              "40  09/08/2022     69            217            82   Whatsapp\n",
              "41  09/09/2022    119            405           192   Whatsapp\n",
              "42  09/10/2022    103            166            79   Whatsapp\n",
              "43  09/11/2022    203            173            92   Whatsapp\n",
              "44  09/12/2022    182            290           172   Whatsapp\n",
              "45  09/13/2022     71            153            91   Whatsapp\n",
              "46  09/14/2022     64            192            67   Whatsapp\n",
              "47  09/15/2022     50            181            58   Whatsapp\n",
              "48  09/16/2022     71            176            91   Whatsapp\n",
              "49  09/17/2022    212            212           120   Whatsapp\n",
              "50  09/18/2022    244            303           132   Whatsapp\n",
              "51  09/19/2022     77            169           105   Whatsapp\n",
              "52  09/20/2022     58            190            78   Whatsapp\n",
              "53  09/21/2022     89            262            68   Whatsapp"
            ],
            "text/html": [
              "\n",
              "  <div id=\"df-fff56c6f-fd95-49c6-a7fe-5dfb2ebe15f9\">\n",
              "    <div class=\"colab-df-container\">\n",
              "      <div>\n",
              "<style scoped>\n",
              "    .dataframe tbody tr th:only-of-type {\n",
              "        vertical-align: middle;\n",
              "    }\n",
              "\n",
              "    .dataframe tbody tr th {\n",
              "        vertical-align: top;\n",
              "    }\n",
              "\n",
              "    .dataframe thead th {\n",
              "        text-align: right;\n",
              "    }\n",
              "</style>\n",
              "<table border=\"1\" class=\"dataframe\">\n",
              "  <thead>\n",
              "    <tr style=\"text-align: right;\">\n",
              "      <th></th>\n",
              "      <th>Date</th>\n",
              "      <th>Usage</th>\n",
              "      <th>Notifications</th>\n",
              "      <th>Times opened</th>\n",
              "      <th>App</th>\n",
              "    </tr>\n",
              "  </thead>\n",
              "  <tbody>\n",
              "    <tr>\n",
              "      <th>0</th>\n",
              "      <td>08/26/2022</td>\n",
              "      <td>38</td>\n",
              "      <td>70</td>\n",
              "      <td>49</td>\n",
              "      <td>Instagram</td>\n",
              "    </tr>\n",
              "    <tr>\n",
              "      <th>1</th>\n",
              "      <td>08/27/2022</td>\n",
              "      <td>39</td>\n",
              "      <td>43</td>\n",
              "      <td>48</td>\n",
              "      <td>Instagram</td>\n",
              "    </tr>\n",
              "    <tr>\n",
              "      <th>2</th>\n",
              "      <td>08/28/2022</td>\n",
              "      <td>64</td>\n",
              "      <td>231</td>\n",
              "      <td>55</td>\n",
              "      <td>Instagram</td>\n",
              "    </tr>\n",
              "    <tr>\n",
              "      <th>3</th>\n",
              "      <td>08/29/2022</td>\n",
              "      <td>14</td>\n",
              "      <td>35</td>\n",
              "      <td>23</td>\n",
              "      <td>Instagram</td>\n",
              "    </tr>\n",
              "    <tr>\n",
              "      <th>4</th>\n",
              "      <td>08/30/2022</td>\n",
              "      <td>3</td>\n",
              "      <td>19</td>\n",
              "      <td>5</td>\n",
              "      <td>Instagram</td>\n",
              "    </tr>\n",
              "    <tr>\n",
              "      <th>5</th>\n",
              "      <td>08/31/2022</td>\n",
              "      <td>19</td>\n",
              "      <td>25</td>\n",
              "      <td>20</td>\n",
              "      <td>Instagram</td>\n",
              "    </tr>\n",
              "    <tr>\n",
              "      <th>6</th>\n",
              "      <td>09/01/2022</td>\n",
              "      <td>44</td>\n",
              "      <td>23</td>\n",
              "      <td>57</td>\n",
              "      <td>Instagram</td>\n",
              "    </tr>\n",
              "    <tr>\n",
              "      <th>7</th>\n",
              "      <td>09/02/2022</td>\n",
              "      <td>16</td>\n",
              "      <td>28</td>\n",
              "      <td>22</td>\n",
              "      <td>Instagram</td>\n",
              "    </tr>\n",
              "    <tr>\n",
              "      <th>8</th>\n",
              "      <td>09/03/2022</td>\n",
              "      <td>27</td>\n",
              "      <td>15</td>\n",
              "      <td>25</td>\n",
              "      <td>Instagram</td>\n",
              "    </tr>\n",
              "    <tr>\n",
              "      <th>9</th>\n",
              "      <td>09/04/2022</td>\n",
              "      <td>72</td>\n",
              "      <td>29</td>\n",
              "      <td>30</td>\n",
              "      <td>Instagram</td>\n",
              "    </tr>\n",
              "    <tr>\n",
              "      <th>10</th>\n",
              "      <td>09/05/2022</td>\n",
              "      <td>42</td>\n",
              "      <td>24</td>\n",
              "      <td>51</td>\n",
              "      <td>Instagram</td>\n",
              "    </tr>\n",
              "    <tr>\n",
              "      <th>11</th>\n",
              "      <td>09/06/2022</td>\n",
              "      <td>19</td>\n",
              "      <td>34</td>\n",
              "      <td>25</td>\n",
              "      <td>Instagram</td>\n",
              "    </tr>\n",
              "    <tr>\n",
              "      <th>12</th>\n",
              "      <td>09/07/2022</td>\n",
              "      <td>38</td>\n",
              "      <td>23</td>\n",
              "      <td>19</td>\n",
              "      <td>Instagram</td>\n",
              "    </tr>\n",
              "    <tr>\n",
              "      <th>13</th>\n",
              "      <td>09/08/2022</td>\n",
              "      <td>71</td>\n",
              "      <td>48</td>\n",
              "      <td>43</td>\n",
              "      <td>Instagram</td>\n",
              "    </tr>\n",
              "    <tr>\n",
              "      <th>14</th>\n",
              "      <td>09/09/2022</td>\n",
              "      <td>43</td>\n",
              "      <td>68</td>\n",
              "      <td>70</td>\n",
              "      <td>Instagram</td>\n",
              "    </tr>\n",
              "    <tr>\n",
              "      <th>15</th>\n",
              "      <td>09/10/2022</td>\n",
              "      <td>45</td>\n",
              "      <td>71</td>\n",
              "      <td>70</td>\n",
              "      <td>Instagram</td>\n",
              "    </tr>\n",
              "    <tr>\n",
              "      <th>16</th>\n",
              "      <td>09/11/2022</td>\n",
              "      <td>94</td>\n",
              "      <td>180</td>\n",
              "      <td>95</td>\n",
              "      <td>Instagram</td>\n",
              "    </tr>\n",
              "    <tr>\n",
              "      <th>17</th>\n",
              "      <td>09/12/2022</td>\n",
              "      <td>114</td>\n",
              "      <td>99</td>\n",
              "      <td>102</td>\n",
              "      <td>Instagram</td>\n",
              "    </tr>\n",
              "    <tr>\n",
              "      <th>18</th>\n",
              "      <td>09/13/2022</td>\n",
              "      <td>17</td>\n",
              "      <td>45</td>\n",
              "      <td>39</td>\n",
              "      <td>Instagram</td>\n",
              "    </tr>\n",
              "    <tr>\n",
              "      <th>19</th>\n",
              "      <td>09/14/2022</td>\n",
              "      <td>1</td>\n",
              "      <td>10</td>\n",
              "      <td>2</td>\n",
              "      <td>Instagram</td>\n",
              "    </tr>\n",
              "    <tr>\n",
              "      <th>20</th>\n",
              "      <td>09/15/2022</td>\n",
              "      <td>2</td>\n",
              "      <td>15</td>\n",
              "      <td>4</td>\n",
              "      <td>Instagram</td>\n",
              "    </tr>\n",
              "    <tr>\n",
              "      <th>21</th>\n",
              "      <td>09/16/2022</td>\n",
              "      <td>3</td>\n",
              "      <td>13</td>\n",
              "      <td>5</td>\n",
              "      <td>Instagram</td>\n",
              "    </tr>\n",
              "    <tr>\n",
              "      <th>22</th>\n",
              "      <td>09/17/2022</td>\n",
              "      <td>2</td>\n",
              "      <td>9</td>\n",
              "      <td>3</td>\n",
              "      <td>Instagram</td>\n",
              "    </tr>\n",
              "    <tr>\n",
              "      <th>23</th>\n",
              "      <td>09/18/2022</td>\n",
              "      <td>3</td>\n",
              "      <td>8</td>\n",
              "      <td>5</td>\n",
              "      <td>Instagram</td>\n",
              "    </tr>\n",
              "    <tr>\n",
              "      <th>24</th>\n",
              "      <td>09/19/2022</td>\n",
              "      <td>4</td>\n",
              "      <td>8</td>\n",
              "      <td>3</td>\n",
              "      <td>Instagram</td>\n",
              "    </tr>\n",
              "    <tr>\n",
              "      <th>25</th>\n",
              "      <td>09/20/2022</td>\n",
              "      <td>5</td>\n",
              "      <td>11</td>\n",
              "      <td>5</td>\n",
              "      <td>Instagram</td>\n",
              "    </tr>\n",
              "    <tr>\n",
              "      <th>26</th>\n",
              "      <td>09/21/2022</td>\n",
              "      <td>2</td>\n",
              "      <td>12</td>\n",
              "      <td>8</td>\n",
              "      <td>Instagram</td>\n",
              "    </tr>\n",
              "    <tr>\n",
              "      <th>27</th>\n",
              "      <td>08/26/2022</td>\n",
              "      <td>82</td>\n",
              "      <td>209</td>\n",
              "      <td>105</td>\n",
              "      <td>Whatsapp</td>\n",
              "    </tr>\n",
              "    <tr>\n",
              "      <th>28</th>\n",
              "      <td>08/27/2022</td>\n",
              "      <td>69</td>\n",
              "      <td>111</td>\n",
              "      <td>68</td>\n",
              "      <td>Whatsapp</td>\n",
              "    </tr>\n",
              "    <tr>\n",
              "      <th>29</th>\n",
              "      <td>08/28/2022</td>\n",
              "      <td>130</td>\n",
              "      <td>183</td>\n",
              "      <td>86</td>\n",
              "      <td>Whatsapp</td>\n",
              "    </tr>\n",
              "    <tr>\n",
              "      <th>30</th>\n",
              "      <td>08/29/2022</td>\n",
              "      <td>59</td>\n",
              "      <td>157</td>\n",
              "      <td>74</td>\n",
              "      <td>Whatsapp</td>\n",
              "    </tr>\n",
              "    <tr>\n",
              "      <th>31</th>\n",
              "      <td>08/30/2022</td>\n",
              "      <td>128</td>\n",
              "      <td>246</td>\n",
              "      <td>87</td>\n",
              "      <td>Whatsapp</td>\n",
              "    </tr>\n",
              "    <tr>\n",
              "      <th>32</th>\n",
              "      <td>08/31/2022</td>\n",
              "      <td>108</td>\n",
              "      <td>169</td>\n",
              "      <td>77</td>\n",
              "      <td>Whatsapp</td>\n",
              "    </tr>\n",
              "    <tr>\n",
              "      <th>33</th>\n",
              "      <td>09/01/2022</td>\n",
              "      <td>23</td>\n",
              "      <td>99</td>\n",
              "      <td>47</td>\n",
              "      <td>Whatsapp</td>\n",
              "    </tr>\n",
              "    <tr>\n",
              "      <th>34</th>\n",
              "      <td>09/02/2022</td>\n",
              "      <td>76</td>\n",
              "      <td>144</td>\n",
              "      <td>103</td>\n",
              "      <td>Whatsapp</td>\n",
              "    </tr>\n",
              "    <tr>\n",
              "      <th>35</th>\n",
              "      <td>09/03/2022</td>\n",
              "      <td>1</td>\n",
              "      <td>80</td>\n",
              "      <td>16</td>\n",
              "      <td>Whatsapp</td>\n",
              "    </tr>\n",
              "    <tr>\n",
              "      <th>36</th>\n",
              "      <td>09/04/2022</td>\n",
              "      <td>6</td>\n",
              "      <td>38</td>\n",
              "      <td>33</td>\n",
              "      <td>Whatsapp</td>\n",
              "    </tr>\n",
              "    <tr>\n",
              "      <th>37</th>\n",
              "      <td>09/05/2022</td>\n",
              "      <td>126</td>\n",
              "      <td>218</td>\n",
              "      <td>121</td>\n",
              "      <td>Whatsapp</td>\n",
              "    </tr>\n",
              "    <tr>\n",
              "      <th>38</th>\n",
              "      <td>09/06/2022</td>\n",
              "      <td>91</td>\n",
              "      <td>205</td>\n",
              "      <td>110</td>\n",
              "      <td>Whatsapp</td>\n",
              "    </tr>\n",
              "    <tr>\n",
              "      <th>39</th>\n",
              "      <td>09/07/2022</td>\n",
              "      <td>160</td>\n",
              "      <td>212</td>\n",
              "      <td>83</td>\n",
              "      <td>Whatsapp</td>\n",
              "    </tr>\n",
              "    <tr>\n",
              "      <th>40</th>\n",
              "      <td>09/08/2022</td>\n",
              "      <td>69</td>\n",
              "      <td>217</td>\n",
              "      <td>82</td>\n",
              "      <td>Whatsapp</td>\n",
              "    </tr>\n",
              "    <tr>\n",
              "      <th>41</th>\n",
              "      <td>09/09/2022</td>\n",
              "      <td>119</td>\n",
              "      <td>405</td>\n",
              "      <td>192</td>\n",
              "      <td>Whatsapp</td>\n",
              "    </tr>\n",
              "    <tr>\n",
              "      <th>42</th>\n",
              "      <td>09/10/2022</td>\n",
              "      <td>103</td>\n",
              "      <td>166</td>\n",
              "      <td>79</td>\n",
              "      <td>Whatsapp</td>\n",
              "    </tr>\n",
              "    <tr>\n",
              "      <th>43</th>\n",
              "      <td>09/11/2022</td>\n",
              "      <td>203</td>\n",
              "      <td>173</td>\n",
              "      <td>92</td>\n",
              "      <td>Whatsapp</td>\n",
              "    </tr>\n",
              "    <tr>\n",
              "      <th>44</th>\n",
              "      <td>09/12/2022</td>\n",
              "      <td>182</td>\n",
              "      <td>290</td>\n",
              "      <td>172</td>\n",
              "      <td>Whatsapp</td>\n",
              "    </tr>\n",
              "    <tr>\n",
              "      <th>45</th>\n",
              "      <td>09/13/2022</td>\n",
              "      <td>71</td>\n",
              "      <td>153</td>\n",
              "      <td>91</td>\n",
              "      <td>Whatsapp</td>\n",
              "    </tr>\n",
              "    <tr>\n",
              "      <th>46</th>\n",
              "      <td>09/14/2022</td>\n",
              "      <td>64</td>\n",
              "      <td>192</td>\n",
              "      <td>67</td>\n",
              "      <td>Whatsapp</td>\n",
              "    </tr>\n",
              "    <tr>\n",
              "      <th>47</th>\n",
              "      <td>09/15/2022</td>\n",
              "      <td>50</td>\n",
              "      <td>181</td>\n",
              "      <td>58</td>\n",
              "      <td>Whatsapp</td>\n",
              "    </tr>\n",
              "    <tr>\n",
              "      <th>48</th>\n",
              "      <td>09/16/2022</td>\n",
              "      <td>71</td>\n",
              "      <td>176</td>\n",
              "      <td>91</td>\n",
              "      <td>Whatsapp</td>\n",
              "    </tr>\n",
              "    <tr>\n",
              "      <th>49</th>\n",
              "      <td>09/17/2022</td>\n",
              "      <td>212</td>\n",
              "      <td>212</td>\n",
              "      <td>120</td>\n",
              "      <td>Whatsapp</td>\n",
              "    </tr>\n",
              "    <tr>\n",
              "      <th>50</th>\n",
              "      <td>09/18/2022</td>\n",
              "      <td>244</td>\n",
              "      <td>303</td>\n",
              "      <td>132</td>\n",
              "      <td>Whatsapp</td>\n",
              "    </tr>\n",
              "    <tr>\n",
              "      <th>51</th>\n",
              "      <td>09/19/2022</td>\n",
              "      <td>77</td>\n",
              "      <td>169</td>\n",
              "      <td>105</td>\n",
              "      <td>Whatsapp</td>\n",
              "    </tr>\n",
              "    <tr>\n",
              "      <th>52</th>\n",
              "      <td>09/20/2022</td>\n",
              "      <td>58</td>\n",
              "      <td>190</td>\n",
              "      <td>78</td>\n",
              "      <td>Whatsapp</td>\n",
              "    </tr>\n",
              "    <tr>\n",
              "      <th>53</th>\n",
              "      <td>09/21/2022</td>\n",
              "      <td>89</td>\n",
              "      <td>262</td>\n",
              "      <td>68</td>\n",
              "      <td>Whatsapp</td>\n",
              "    </tr>\n",
              "  </tbody>\n",
              "</table>\n",
              "</div>\n",
              "      <button class=\"colab-df-convert\" onclick=\"convertToInteractive('df-fff56c6f-fd95-49c6-a7fe-5dfb2ebe15f9')\"\n",
              "              title=\"Convert this dataframe to an interactive table.\"\n",
              "              style=\"display:none;\">\n",
              "        \n",
              "  <svg xmlns=\"http://www.w3.org/2000/svg\" height=\"24px\"viewBox=\"0 0 24 24\"\n",
              "       width=\"24px\">\n",
              "    <path d=\"M0 0h24v24H0V0z\" fill=\"none\"/>\n",
              "    <path d=\"M18.56 5.44l.94 2.06.94-2.06 2.06-.94-2.06-.94-.94-2.06-.94 2.06-2.06.94zm-11 1L8.5 8.5l.94-2.06 2.06-.94-2.06-.94L8.5 2.5l-.94 2.06-2.06.94zm10 10l.94 2.06.94-2.06 2.06-.94-2.06-.94-.94-2.06-.94 2.06-2.06.94z\"/><path d=\"M17.41 7.96l-1.37-1.37c-.4-.4-.92-.59-1.43-.59-.52 0-1.04.2-1.43.59L10.3 9.45l-7.72 7.72c-.78.78-.78 2.05 0 2.83L4 21.41c.39.39.9.59 1.41.59.51 0 1.02-.2 1.41-.59l7.78-7.78 2.81-2.81c.8-.78.8-2.07 0-2.86zM5.41 20L4 18.59l7.72-7.72 1.47 1.35L5.41 20z\"/>\n",
              "  </svg>\n",
              "      </button>\n",
              "      \n",
              "  <style>\n",
              "    .colab-df-container {\n",
              "      display:flex;\n",
              "      flex-wrap:wrap;\n",
              "      gap: 12px;\n",
              "    }\n",
              "\n",
              "    .colab-df-convert {\n",
              "      background-color: #E8F0FE;\n",
              "      border: none;\n",
              "      border-radius: 50%;\n",
              "      cursor: pointer;\n",
              "      display: none;\n",
              "      fill: #1967D2;\n",
              "      height: 32px;\n",
              "      padding: 0 0 0 0;\n",
              "      width: 32px;\n",
              "    }\n",
              "\n",
              "    .colab-df-convert:hover {\n",
              "      background-color: #E2EBFA;\n",
              "      box-shadow: 0px 1px 2px rgba(60, 64, 67, 0.3), 0px 1px 3px 1px rgba(60, 64, 67, 0.15);\n",
              "      fill: #174EA6;\n",
              "    }\n",
              "\n",
              "    [theme=dark] .colab-df-convert {\n",
              "      background-color: #3B4455;\n",
              "      fill: #D2E3FC;\n",
              "    }\n",
              "\n",
              "    [theme=dark] .colab-df-convert:hover {\n",
              "      background-color: #434B5C;\n",
              "      box-shadow: 0px 1px 3px 1px rgba(0, 0, 0, 0.15);\n",
              "      filter: drop-shadow(0px 1px 2px rgba(0, 0, 0, 0.3));\n",
              "      fill: #FFFFFF;\n",
              "    }\n",
              "  </style>\n",
              "\n",
              "      <script>\n",
              "        const buttonEl =\n",
              "          document.querySelector('#df-fff56c6f-fd95-49c6-a7fe-5dfb2ebe15f9 button.colab-df-convert');\n",
              "        buttonEl.style.display =\n",
              "          google.colab.kernel.accessAllowed ? 'block' : 'none';\n",
              "\n",
              "        async function convertToInteractive(key) {\n",
              "          const element = document.querySelector('#df-fff56c6f-fd95-49c6-a7fe-5dfb2ebe15f9');\n",
              "          const dataTable =\n",
              "            await google.colab.kernel.invokeFunction('convertToInteractive',\n",
              "                                                     [key], {});\n",
              "          if (!dataTable) return;\n",
              "\n",
              "          const docLinkHtml = 'Like what you see? Visit the ' +\n",
              "            '<a target=\"_blank\" href=https://colab.research.google.com/notebooks/data_table.ipynb>data table notebook</a>'\n",
              "            + ' to learn more about interactive tables.';\n",
              "          element.innerHTML = '';\n",
              "          dataTable['output_type'] = 'display_data';\n",
              "          await google.colab.output.renderOutput(dataTable, element);\n",
              "          const docLink = document.createElement('div');\n",
              "          docLink.innerHTML = docLinkHtml;\n",
              "          element.appendChild(docLink);\n",
              "        }\n",
              "      </script>\n",
              "    </div>\n",
              "  </div>\n",
              "  "
            ]
          },
          "metadata": {},
          "execution_count": 150
        }
      ]
    },
    {
      "cell_type": "code",
      "source": [
        "df.info()"
      ],
      "metadata": {
        "colab": {
          "base_uri": "https://localhost:8080/"
        },
        "id": "xE9Ee0U0C5YB",
        "outputId": "5a867c64-cd9a-43b2-d345-a0222e382e44"
      },
      "execution_count": 151,
      "outputs": [
        {
          "output_type": "stream",
          "name": "stdout",
          "text": [
            "<class 'pandas.core.frame.DataFrame'>\n",
            "RangeIndex: 54 entries, 0 to 53\n",
            "Data columns (total 5 columns):\n",
            " #   Column         Non-Null Count  Dtype \n",
            "---  ------         --------------  ----- \n",
            " 0   Date           54 non-null     object\n",
            " 1   Usage          54 non-null     int64 \n",
            " 2   Notifications  54 non-null     int64 \n",
            " 3   Times opened   54 non-null     int64 \n",
            " 4   App            54 non-null     object\n",
            "dtypes: int64(3), object(2)\n",
            "memory usage: 2.2+ KB\n"
          ]
        }
      ]
    },
    {
      "cell_type": "code",
      "source": [
        "df.isnull().sum()"
      ],
      "metadata": {
        "colab": {
          "base_uri": "https://localhost:8080/"
        },
        "id": "lLq3Fno5DBwn",
        "outputId": "df457dfc-44a9-42a2-c239-f35b8e7d2dce"
      },
      "execution_count": 152,
      "outputs": [
        {
          "output_type": "execute_result",
          "data": {
            "text/plain": [
              "Date             0\n",
              "Usage            0\n",
              "Notifications    0\n",
              "Times opened     0\n",
              "App              0\n",
              "dtype: int64"
            ]
          },
          "metadata": {},
          "execution_count": 152
        }
      ]
    },
    {
      "cell_type": "code",
      "source": [
        "\n",
        "df.duplicated().sum()"
      ],
      "metadata": {
        "colab": {
          "base_uri": "https://localhost:8080/"
        },
        "id": "7mz39HuBDFdO",
        "outputId": "15a2cd2b-9033-4aa5-cd31-8e034a3fc153"
      },
      "execution_count": 153,
      "outputs": [
        {
          "output_type": "execute_result",
          "data": {
            "text/plain": [
              "0"
            ]
          },
          "metadata": {},
          "execution_count": 153
        }
      ]
    },
    {
      "cell_type": "code",
      "source": [
        "x=df.iloc[:,1:4].values\n",
        "y=df.iloc[:,4].values\n",
        "print(x)\n",
        "print(y)"
      ],
      "metadata": {
        "colab": {
          "base_uri": "https://localhost:8080/"
        },
        "id": "g6eZLifeDLRN",
        "outputId": "bebbfb6a-6ab7-4fce-98ee-1bf8ddf2f68a"
      },
      "execution_count": 154,
      "outputs": [
        {
          "output_type": "stream",
          "name": "stdout",
          "text": [
            "[[ 38  70  49]\n",
            " [ 39  43  48]\n",
            " [ 64 231  55]\n",
            " [ 14  35  23]\n",
            " [  3  19   5]\n",
            " [ 19  25  20]\n",
            " [ 44  23  57]\n",
            " [ 16  28  22]\n",
            " [ 27  15  25]\n",
            " [ 72  29  30]\n",
            " [ 42  24  51]\n",
            " [ 19  34  25]\n",
            " [ 38  23  19]\n",
            " [ 71  48  43]\n",
            " [ 43  68  70]\n",
            " [ 45  71  70]\n",
            " [ 94 180  95]\n",
            " [114  99 102]\n",
            " [ 17  45  39]\n",
            " [  1  10   2]\n",
            " [  2  15   4]\n",
            " [  3  13   5]\n",
            " [  2   9   3]\n",
            " [  3   8   5]\n",
            " [  4   8   3]\n",
            " [  5  11   5]\n",
            " [  2  12   8]\n",
            " [ 82 209 105]\n",
            " [ 69 111  68]\n",
            " [130 183  86]\n",
            " [ 59 157  74]\n",
            " [128 246  87]\n",
            " [108 169  77]\n",
            " [ 23  99  47]\n",
            " [ 76 144 103]\n",
            " [  1  80  16]\n",
            " [  6  38  33]\n",
            " [126 218 121]\n",
            " [ 91 205 110]\n",
            " [160 212  83]\n",
            " [ 69 217  82]\n",
            " [119 405 192]\n",
            " [103 166  79]\n",
            " [203 173  92]\n",
            " [182 290 172]\n",
            " [ 71 153  91]\n",
            " [ 64 192  67]\n",
            " [ 50 181  58]\n",
            " [ 71 176  91]\n",
            " [212 212 120]\n",
            " [244 303 132]\n",
            " [ 77 169 105]\n",
            " [ 58 190  78]\n",
            " [ 89 262  68]]\n",
            "['Instagram' 'Instagram' 'Instagram' 'Instagram' 'Instagram' 'Instagram'\n",
            " 'Instagram' 'Instagram' 'Instagram' 'Instagram' 'Instagram' 'Instagram'\n",
            " 'Instagram' 'Instagram' 'Instagram' 'Instagram' 'Instagram' 'Instagram'\n",
            " 'Instagram' 'Instagram' 'Instagram' 'Instagram' 'Instagram' 'Instagram'\n",
            " 'Instagram' 'Instagram' 'Instagram' 'Whatsapp' 'Whatsapp' 'Whatsapp'\n",
            " 'Whatsapp' 'Whatsapp' 'Whatsapp' 'Whatsapp' 'Whatsapp' 'Whatsapp'\n",
            " 'Whatsapp' 'Whatsapp' 'Whatsapp' 'Whatsapp' 'Whatsapp' 'Whatsapp'\n",
            " 'Whatsapp' 'Whatsapp' 'Whatsapp' 'Whatsapp' 'Whatsapp' 'Whatsapp'\n",
            " 'Whatsapp' 'Whatsapp' 'Whatsapp' 'Whatsapp' 'Whatsapp' 'Whatsapp']\n"
          ]
        }
      ]
    },
    {
      "cell_type": "code",
      "source": [
        "from sklearn.model_selection import train_test_split\n",
        "x_train,x_test,y_train,y_test=train_test_split(x,y,random_state=7,test_size=0.5)"
      ],
      "metadata": {
        "id": "NdAtDvt5ItJs"
      },
      "execution_count": 155,
      "outputs": []
    },
    {
      "cell_type": "code",
      "source": [
        "x.shape"
      ],
      "metadata": {
        "colab": {
          "base_uri": "https://localhost:8080/"
        },
        "id": "4-kfJk8VJQDM",
        "outputId": "f1df1de3-7bd3-4cdc-bc19-dd2a330f2503"
      },
      "execution_count": 156,
      "outputs": [
        {
          "output_type": "execute_result",
          "data": {
            "text/plain": [
              "(54, 3)"
            ]
          },
          "metadata": {},
          "execution_count": 156
        }
      ]
    },
    {
      "cell_type": "code",
      "source": [
        "x_test.shape\n"
      ],
      "metadata": {
        "colab": {
          "base_uri": "https://localhost:8080/"
        },
        "id": "sDec-5moJYLX",
        "outputId": "78a3bc1a-fe19-4ce3-b721-7546c52fe784"
      },
      "execution_count": 157,
      "outputs": [
        {
          "output_type": "execute_result",
          "data": {
            "text/plain": [
              "(27, 3)"
            ]
          },
          "metadata": {},
          "execution_count": 157
        }
      ]
    },
    {
      "cell_type": "code",
      "source": [
        "11/54"
      ],
      "metadata": {
        "colab": {
          "base_uri": "https://localhost:8080/"
        },
        "id": "PXXfFiMIJczp",
        "outputId": "d74291c9-6f43-484b-cf35-03f1f5ea3dcf"
      },
      "execution_count": 158,
      "outputs": [
        {
          "output_type": "execute_result",
          "data": {
            "text/plain": [
              "0.2037037037037037"
            ]
          },
          "metadata": {},
          "execution_count": 158
        }
      ]
    },
    {
      "cell_type": "code",
      "source": [
        "from sklearn.neighbors import KNeighborsClassifier\n",
        "app=KNeighborsClassifier(n_neighbors=7,metric='euclidean')"
      ],
      "metadata": {
        "id": "4AH_mrvPJv2O"
      },
      "execution_count": 159,
      "outputs": []
    },
    {
      "cell_type": "code",
      "source": [
        "app.fit(x_train,y_train)"
      ],
      "metadata": {
        "colab": {
          "base_uri": "https://localhost:8080/"
        },
        "id": "hqS6GpuuJ359",
        "outputId": "760b28ab-33f4-4229-fde3-dfdc13080305"
      },
      "execution_count": 160,
      "outputs": [
        {
          "output_type": "execute_result",
          "data": {
            "text/plain": [
              "KNeighborsClassifier(metric='euclidean', n_neighbors=7)"
            ]
          },
          "metadata": {},
          "execution_count": 160
        }
      ]
    },
    {
      "cell_type": "code",
      "source": [
        "y_p=app.predict(x_test)\n",
        "y_p"
      ],
      "metadata": {
        "colab": {
          "base_uri": "https://localhost:8080/"
        },
        "id": "RriAT48AJ8rt",
        "outputId": "7558be5f-7385-43fe-fdb6-553a09b26d56"
      },
      "execution_count": 161,
      "outputs": [
        {
          "output_type": "execute_result",
          "data": {
            "text/plain": [
              "array(['Instagram', 'Whatsapp', 'Whatsapp', 'Instagram', 'Instagram',\n",
              "       'Whatsapp', 'Whatsapp', 'Whatsapp', 'Instagram', 'Instagram',\n",
              "       'Whatsapp', 'Instagram', 'Whatsapp', 'Whatsapp', 'Whatsapp',\n",
              "       'Instagram', 'Whatsapp', 'Instagram', 'Whatsapp', 'Instagram',\n",
              "       'Whatsapp', 'Instagram', 'Whatsapp', 'Instagram', 'Whatsapp',\n",
              "       'Instagram', 'Whatsapp'], dtype=object)"
            ]
          },
          "metadata": {},
          "execution_count": 161
        }
      ]
    },
    {
      "cell_type": "code",
      "source": [
        "y_test"
      ],
      "metadata": {
        "colab": {
          "base_uri": "https://localhost:8080/"
        },
        "id": "VgHDc1BkKDyy",
        "outputId": "d961df99-e8ea-4b50-9dda-ce399c0f86bb"
      },
      "execution_count": 162,
      "outputs": [
        {
          "output_type": "execute_result",
          "data": {
            "text/plain": [
              "array(['Instagram', 'Whatsapp', 'Whatsapp', 'Instagram', 'Instagram',\n",
              "       'Whatsapp', 'Whatsapp', 'Whatsapp', 'Instagram', 'Instagram',\n",
              "       'Whatsapp', 'Instagram', 'Whatsapp', 'Instagram', 'Whatsapp',\n",
              "       'Whatsapp', 'Whatsapp', 'Instagram', 'Whatsapp', 'Whatsapp',\n",
              "       'Whatsapp', 'Instagram', 'Instagram', 'Whatsapp', 'Instagram',\n",
              "       'Instagram', 'Whatsapp'], dtype=object)"
            ]
          },
          "metadata": {},
          "execution_count": 162
        }
      ]
    },
    {
      "cell_type": "code",
      "source": [
        "from sklearn.metrics import accuracy_score,confusion_matrix,classification_report\n",
        "accuracy_score(y_test,y_p)"
      ],
      "metadata": {
        "colab": {
          "base_uri": "https://localhost:8080/"
        },
        "id": "L-2OaHNzFHuE",
        "outputId": "8410f18d-b7c1-4cbf-f3ce-69215e5b71aa"
      },
      "execution_count": 163,
      "outputs": [
        {
          "output_type": "execute_result",
          "data": {
            "text/plain": [
              "0.7777777777777778"
            ]
          },
          "metadata": {},
          "execution_count": 163
        }
      ]
    },
    {
      "cell_type": "code",
      "source": [
        "confusion_matrix(y_test,y_p)"
      ],
      "metadata": {
        "colab": {
          "base_uri": "https://localhost:8080/"
        },
        "id": "i0H4biOFFOK7",
        "outputId": "9d1702fe-dce3-4d85-9213-cf138e3a3ae7"
      },
      "execution_count": 164,
      "outputs": [
        {
          "output_type": "execute_result",
          "data": {
            "text/plain": [
              "array([[ 9,  3],\n",
              "       [ 3, 12]])"
            ]
          },
          "metadata": {},
          "execution_count": 164
        }
      ]
    },
    {
      "cell_type": "code",
      "source": [
        "print(classification_report(y_test,y_p))"
      ],
      "metadata": {
        "colab": {
          "base_uri": "https://localhost:8080/"
        },
        "id": "pKhL8CVzFRNq",
        "outputId": "0a04b9b0-1d1a-4ea5-86e9-77ec8cf8510c"
      },
      "execution_count": 165,
      "outputs": [
        {
          "output_type": "stream",
          "name": "stdout",
          "text": [
            "              precision    recall  f1-score   support\n",
            "\n",
            "   Instagram       0.75      0.75      0.75        12\n",
            "    Whatsapp       0.80      0.80      0.80        15\n",
            "\n",
            "    accuracy                           0.78        27\n",
            "   macro avg       0.78      0.78      0.78        27\n",
            "weighted avg       0.78      0.78      0.78        27\n",
            "\n"
          ]
        }
      ]
    },
    {
      "cell_type": "code",
      "source": [
        "plt.scatter(y_test,y_p)\n",
        "plt.xlabel('Actual values',fontsize=15)\n",
        "plt.ylabel('predicted values',fontsize=15)\n",
        "plt.show()"
      ],
      "metadata": {
        "colab": {
          "base_uri": "https://localhost:8080/",
          "height": 284
        },
        "id": "MaY1KsdZFYcv",
        "outputId": "91a787e4-0a43-4d9e-f8d7-cc03dc69278a"
      },
      "execution_count": 166,
      "outputs": [
        {
          "output_type": "display_data",
          "data": {
            "text/plain": [
              "<Figure size 432x288 with 1 Axes>"
            ],
            "image/png": "[encoded data removed]"
          },
          "metadata": {
            "needs_background": "light"
          }
        }
      ]
    },
    {
      "cell_type": "code",
      "source": [
        "\n",
        "plt.scatter(df['Times opened'],df['Notifications'],color='b',label='Times opened vs Notifications')\n",
        "plt.scatter(df['Times opened'],df['Usage'],color='m',label='times opened vs usage')\n",
        "plt.legend()\n",
        "plt.show()"
      ],
      "metadata": {
        "colab": {
          "base_uri": "https://localhost:8080/",
          "height": 265
        },
        "id": "PU-r7QnAMTYD",
        "outputId": "63297a13-d3be-42d2-fc43-bc4edf0e2f23"
      },
      "execution_count": 167,
      "outputs": [
        {
          "output_type": "display_data",
          "data": {
            "text/plain": [
              "<Figure size 432x288 with 1 Axes>"
            ],
            "image/png": "[encoded data removed]"
          },
          "metadata": {
            "needs_background": "light"
          }
        }
      ]
    },
    {
      "cell_type": "code",
      "source": [
        "plt.figure(figsize=(12,5))\n",
        "plt.scatter(df['Times opened'],df['App'],color='k',label='No of times app opened')\n",
        "plt.scatter(df['Usage'],df['App'],label='usage of App',color='g')\n",
        "plt.legend()\n",
        "plt.show()"
      ],
      "metadata": {
        "colab": {
          "base_uri": "https://localhost:8080/",
          "height": 320
        },
        "id": "J_UawdteNJGE",
        "outputId": "736b4965-50da-4dc6-ced2-e9cadb7e999a"
      },
      "execution_count": 174,
      "outputs": [
        {
          "output_type": "display_data",
          "data": {
            "text/plain": [
              "<Figure size 864x360 with 1 Axes>"
            ],
            "image/png": "[encoded data removed]"
          },
          "metadata": {
            "needs_background": "light"
          }
        }
      ]
    }
  ]
}